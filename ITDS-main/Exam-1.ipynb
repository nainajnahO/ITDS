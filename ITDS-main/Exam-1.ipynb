{
 "cells": [
  {
   "cell_type": "markdown",
   "id": "b465e0d9",
   "metadata": {
    "deletable": false
   },
   "source": [
    "# Exam 17th of January 2025, 8.00-13.00 for the course 1MS041 (Introduction to Data Science / Introduktion till dataanalys)\n",
    "\n",
    "## Instructions:\n",
    "1. Complete the problems by following instructions.\n",
    "2. When done, submit this file with your solutions saved, following the instruction sheet.\n",
    "\n",
    "This exam has 3 problems for a total of 40 points, to pass you need\n",
    "20 points. The bonus will be added to the score of the exam and rounded afterwards.\n",
    "\n",
    "## Some general hints and information:\n",
    "* Try to answer all questions even if you are uncertain.\n",
    "* Comment your code, so that if you get the wrong answer I can understand how you thought\n",
    "this can give you some points even though the code does not run.\n",
    "* Follow the instruction sheet rigorously.\n",
    "* This exam is partially autograded, but your code and your free text answers are manually graded anonymously.\n",
    "* If there are any questions, please ask the exam guards, they will escalate it to me if necessary.\n",
    "\n",
    "## Tips for free text answers\n",
    "* Be VERY clear with your reasoning, there should be zero ambiguity in what you are referring to.\n",
    "* If you want to include math, you can write LaTeX in the Markdown cells, for instance `$f(x)=x^2$` will be rendered as $f(x)=x^2$ and `$$f(x) = x^2$$` will become an equation line, as follows\n",
    "$$f(x) = x^2$$\n",
    "Another example is `$$f_{Y \\mid X}(y,x) = P(Y = y \\mid X = x) = \\exp(\\alpha \\cdot x + \\beta)$$` which renders as\n",
    "$$f_{Y \\mid X}(y,x) = P(Y = y \\mid X = x) = \\exp(\\alpha \\cdot x + \\beta)$$\n",
    "\n",
    "## Finally some rules:\n",
    "* You may not communicate with others during the exam, for example:\n",
    "    * You cannot ask for help in Stack-Overflow or other such help forums during the Exam.\n",
    "    * You may not communicate with AI's, for instance ChatGPT.\n",
    "    * Your on-line and off-line activity is being monitored according to the examination rules.\n",
    "\n",
    "## Good luck!"
   ]
  },
  {
   "cell_type": "code",
   "execution_count": 33,
   "id": "40240477",
   "metadata": {
    "deletable": false
   },
   "outputs": [],
   "source": "# Insert your anonymous exam ID as a string in the variable below\n"
  },
  {
   "cell_type": "markdown",
   "id": "a3c67547",
   "metadata": {
    "deletable": false,
    "lx_assignment_number": "vB",
    "lx_assignment_type": "EXAM",
    "lx_assignment_type2print": "Exam",
    "lx_problem_cell_type": "PROBLEM",
    "lx_problem_number": "1",
    "lx_problem_points": "14"
   },
   "source": [
    "---\n",
    "## Exam vB, PROBLEM 1\n",
    "Maximum Points = 14"
   ]
  },
  {
   "cell_type": "markdown",
   "id": "a3ea1654",
   "metadata": {
    "deletable": false,
    "lx_assignment_number": "vB",
    "lx_assignment_type": "EXAM",
    "lx_assignment_type2print": "Exam",
    "lx_problem_cell_type": "PROBLEM",
    "lx_problem_number": "1",
    "lx_problem_points": "14"
   },
   "source": [
    "\n",
    "This problem is about SVD and anomaly detection. In all the problems where you are asked to produce a matrix or vector, they should be **numpy arrays**. \n",
    "\n",
    "1. [4p] Load the file `data/SVD.csv` as instructed in the code cell. Compute the Singular Value Decomposition, i.e. construct the three matrices $U$, $D$, $V$ such that if $X$ is the data matrix of shape `n_samples x n_dimensions` then $X = UDV^T$. Put the resulting matrices in their variables, check that the shapes align with the instructions in the code cell. Finally, extract the first right and left singular vectors and store those as 1-d arrays in the instructed variables.\n",
    "2. [3p] The first goal is to calculate the explained variance, check the lecture notes for definition. Calculate the explained variance of using $1$, $2$,... number of singular vectors and select how many singular vectors are needed in order to explain at least $95\\%$ of the variance.\n",
    "3. [3p] With the number of components chosen in part 2, construct the best approximating matrix with the rank as the number of components. Explain what each row represents in the approximating matrix in terms of the original data, write your answer as free text in the Markdown cell below as instructed in the cells.\n",
    "4. [4p] Create a vector which corresponds to the row-wise (Euclidean) distance between the original matrix `problem1_data`and the approximating matrix `problem1_approximation` and plot the empirical distribution function of that distance. Based on the empirical distribution function choose a threshold such that 10 samples are above it and the rest below. Store the 10 samples in the instructed variable."
   ]
  },
  {
   "cell_type": "code",
   "execution_count": 34,
   "id": "8ea11d5a",
   "metadata": {
    "deletable": false,
    "lx_assignment_number": "vB",
    "lx_assignment_type": "EXAM",
    "lx_assignment_type2print": "Exam",
    "lx_problem_cell_type": "PROBLEM",
    "lx_problem_number": "1",
    "lx_problem_points": "14"
   },
   "outputs": [
    {
     "name": "stdout",
     "output_type": "stream",
     "text": [
      "(1010, 1010) (100,) (100, 100)\n"
     ]
    }
   ],
   "source": [
    "import pandas as pd\n",
    "import numpy as np\n",
    "# Part 1: 4 points\n",
    "\n",
    "# Load the data from the file data/SVD.csv and store the data in a numpy array called problem1_data below\n",
    "# Double check that the numbers have been parsed correctly by checking the dtype of the array by calling problem1_data.dtype\n",
    "\n",
    "#LOAD DATA\n",
    "X = np.loadtxt(\"data/SVD.csv\", delimiter=\",\")\n",
    "\n",
    "problem1_data = X # A numpy array of shape n_samples x n_dimensions\n",
    "\n",
    "#SVD\n",
    "U, D, VT = np.linalg.svd(X)\n",
    "\n",
    "#CHECK DIMENSIONS\n",
    "print(U.shape, D.shape, VT.shape)\n",
    "\n",
    "problem1_U = U # The matrix of left singular vectors of problem1_data with shape n_samples x n_dimensions\n",
    "problem1_D = D # The vector of singular values of problem1_data with shape n_dimensions\n",
    "problem1_V = VT # The matrix of right singular vectors of problem1_data with shape n_dimensions x n_dimensions\n",
    "\n",
    "problem1_first_right_singular_vector = np.transpose(VT)[0] # The first right singular vector of problem1_data with shape (n_dimensions,) hint sometimes one needs to invoke flatten() to avoid having shape (n_dimensions, 1) or (1, n_dimensions)\n",
    "\n",
    "problem1_first_left_singular_vector = U[0] # The first left singular vector of problem1_data with shape (n_samples,) hint sometimes one needs to invoke flatten() to avoid having shape (n_samples, 1) or (1, n_samples)\n"
   ]
  },
  {
   "cell_type": "code",
   "execution_count": 35,
   "id": "598b5e94",
   "metadata": {
    "deletable": false,
    "lx_assignment_number": "vB",
    "lx_assignment_type": "EXAM",
    "lx_assignment_type2print": "Exam",
    "lx_problem_cell_type": "PROBLEM",
    "lx_problem_number": "1",
    "lx_problem_points": "14"
   },
   "outputs": [
    {
     "name": "stdout",
     "output_type": "stream",
     "text": [
      "At 9 components, we capture 97.05123413496806 percent of the data\n"
     ]
    },
    {
     "data": {
      "image/png": "[encoded data removed]",
      "text/plain": [
       "<Figure size 640x480 with 1 Axes>"
      ]
     },
     "metadata": {},
     "output_type": "display_data"
    }
   ],
   "source": [
    "import matplotlib.pyplot as plt\n",
    "# Part 2: 3 points\n",
    "\n",
    "#FIND CULMULATIVE SUM OF D\n",
    "cum = np.cumsum(D)\n",
    "\n",
    "# Calculate the explained variance of using 1,2,3,...,n_dimensions singular values and store it as a numpy array called problem1_explained_variance below\n",
    "problem1_explained_variance = cum + [1] # A numpy array of shape (n_dimensions,), it should be an increasing sequence of positive numbers and the last element should be 1\n",
    "\n",
    "#DETERMINE LEAST AMOUNT OF SINGULAR VECTORS NEEDED TO SATISFY AT LEAST 95%\n",
    "n = 0\n",
    "for s in cum:\n",
    "    if s/cum[-1] >= 0.95:\n",
    "        break\n",
    "    n += 1\n",
    "\n",
    "#EXPLENATION\n",
    "\n",
    "'''\n",
    "First of all, the eigen values are sorted in D: They get smaller as we move down the diagonal.\n",
    "The curve helps us to understand how many components are needed to explain the variance in the data:\n",
    "When the curve reaches its plateau, adding more components does not contribute more information.\n",
    "'''\n",
    "x = [x for x in range(len(D))]\n",
    "plt.plot(x, cum)\n",
    "plt.scatter(n, cum[n], color = \"red\")\n",
    "\n",
    "print(\"At\", n, \"components, we capture\", 100 * cum[n]/cum[-1], \"percent of the data\")\n",
    "\n",
    "# Store in the variable below the smallest number of singular values needed to explain at least 95% of the variance\n",
    "problem1_num_components = n # An integer"
   ]
  },
  {
   "cell_type": "code",
   "execution_count": 36,
   "id": "517b319e",
   "metadata": {
    "deletable": false,
    "lx_assignment_number": "vB",
    "lx_assignment_type": "EXAM",
    "lx_assignment_type2print": "Exam",
    "lx_problem_cell_type": "PROBLEM",
    "lx_problem_number": "1",
    "lx_problem_points": "14"
   },
   "outputs": [
    {
     "name": "stdout",
     "output_type": "stream",
     "text": [
      "[[ 1.59136181  1.30525343 -0.70913358 ...  0.82023409 -1.94593277\n",
      "   0.35912885]\n",
      " [ 5.04066036  0.3650324   2.05882392 ... -0.80065209  1.96737392\n",
      "   0.47090599]\n",
      " [ 0.98760592  1.46469299 -2.85714984 ... -0.27954275  1.66974706\n",
      "  -1.95988659]\n",
      " ...\n",
      " [ 1.36382599 -2.9090516   1.63040355 ...  1.9778119   5.62268553\n",
      "  -3.27189848]\n",
      " [ 1.67565951 -2.12398689  2.58287849 ...  0.1917941  -0.45766707\n",
      "   1.46549409]\n",
      " [-7.99686962 -0.5718475   0.02873707 ...  2.72100528 -2.13407087\n",
      "  -0.11744972]]\n"
     ]
    }
   ],
   "source": [
    "# Part 3: 3 points\n",
    "\n",
    "#EXPLENATION\n",
    "'''\n",
    "Multiplying U, D, and VT results in our original matrix X.\n",
    "By selecting the first n eigenvalues from D, and converting the rest of the diagonal to zeros,\n",
    "we get the approximative matrix by multiplying U, D and VT (but this time with the reduced D)\n",
    "'''\n",
    "\n",
    "u = U[:,:n]\n",
    "v = VT[:n,:]\n",
    "d = np.diag(D[:n]) \n",
    "\n",
    "reconstructed_approximation = u.dot(d.dot(v))\n",
    "print(reconstructed_approximation)\n",
    "\n",
    "transform = u.dot(d)\n",
    "#print(u.dot(d))\n",
    "\n",
    "\n",
    "from sklearn.decomposition import TruncatedSVD\n",
    "svd = TruncatedSVD(n_components=9)\n",
    "svd.fit(X)\n",
    "sklearn_transform = svd.transform(X)\n",
    "#print(sklearn_transform)\n",
    "\n",
    "# Calculate the approximating matrix of problem1_data using the first problem1_num_components singular values and store it in the variable below\n",
    "problem1_approximation = reconstructed_approximation # A numpy array of shape n_samples x n_dimensions"
   ]
  },
  {
   "cell_type": "markdown",
   "id": "86d90bbc",
   "metadata": {
    "deletable": false,
    "lx_assignment_number": "vB",
    "lx_assignment_type": "EXAM",
    "lx_assignment_type2print": "Exam",
    "lx_problem_cell_type": "PROBLEM",
    "lx_problem_number": "1",
    "lx_problem_points": "14"
   },
   "source": [
    "\n",
    "## Free text answer\n",
    "\n",
    "Put the explanation for **part 3** of the rows of the approximating matrix below this line in this cell. In order to enter edit mode you can doubleclick this cell or select it and just press enter.\n",
    "\n"
   ]
  },
  {
   "cell_type": "code",
   "execution_count": 37,
   "id": "c3ae2296",
   "metadata": {
    "deletable": false,
    "lx_assignment_number": "vB",
    "lx_assignment_type": "EXAM",
    "lx_assignment_type2print": "Exam",
    "lx_problem_cell_type": "PROBLEM",
    "lx_problem_number": "1",
    "lx_problem_points": "14"
   },
   "outputs": [],
   "source": [
    "# Part 4: 4 points\n",
    "\n",
    "reconstruction_error = []\n",
    "\n",
    "for i in range(1010):\n",
    "    reconstruction_error.append(np.sqrt((X[i,:] - problem1_approximation[i,:]) ** 2))\n",
    "\n",
    "\n",
    "# Calculate the reconstruction error of problem1_data using problem1_approximation and store it in the variable below (should have shape (n_samples,)) (row wise Euclidean distance)\n",
    "problem1_reconstruction_error = reconstruction_error\n",
    "\n",
    "# Put the code below to plot the empirical distribution function of the reconstruction error\n",
    "# \n",
    "# from scipy import stats\n",
    "# res = stats.ecdf(reconstruction_error)\n",
    "\n",
    "\n",
    "# Store the value of the selected threshold in the variable below\n",
    "problem1_threshold = NotImplemented\n",
    "\n",
    "# Finally store the samples of problem1_data that have a reconstruction error larger than problem1_threshold in the variable below, should have shape (10, n_dimensions)\n",
    "problem1_outliers = NotImplemented"
   ]
  },
  {
   "cell_type": "markdown",
   "id": "ff4d0d75",
   "metadata": {
    "deletable": false,
    "lx_assignment_number": "vB",
    "lx_assignment_type": "EXAM",
    "lx_assignment_type2print": "Exam",
    "lx_problem_cell_type": "PROBLEM",
    "lx_problem_number": "2",
    "lx_problem_points": "14"
   },
   "source": [
    "---\n",
    "## Exam vB, PROBLEM 2\n",
    "Maximum Points = 14"
   ]
  },
  {
   "attachments": {},
   "cell_type": "markdown",
   "id": "c3b664ad",
   "metadata": {
    "deletable": false,
    "lx_assignment_number": "vB",
    "lx_assignment_type": "EXAM",
    "lx_assignment_type2print": "Exam",
    "lx_problem_cell_type": "PROBLEM",
    "lx_problem_number": "2",
    "lx_problem_points": "14"
   },
   "source": [
    "\n",
    "In this problem we have data consisting of user behavior on a website. The pages of the website are just numbers in the dataset $0,1,2,\\ldots$ and each row consists of a user, a source and a destination page. This signifies that the user was on the source page and clicked a link leading them to the destination page. The goal is to improve the user experience by decreasing load time of the next page visited, as such we need a good estimate for the next site likely to be visited. We will model this using a homogeneous Markov chain, each row in the data-file then corresponds to a single realization of a transition. \n",
    "\n",
    "1. [3p] Load the data in the file `data/websites.csv` and construct a matrix of size `n_pages x n_pages` which is the maximum likelihood estimate of the true transition matrix for the Markov chain. Here the ordering of the states are exactly the ones in the data-file, that is page $0$ has index $0$ in the matrix.\n",
    "2. [4p] A page loads in $\\text{Exp}(1)$ (Exponentially distributed with mean $1$) seconds if not preloaded and loads with $\\text{Exp}(10)$ (Exponentially distributed with mean $1/10$) seconds if preloaded and we only preload the most likely next site. Given that we start in page $1$ simulate $10000$ load times from page $1$ (that is, only a single step), store the result in the variable indicated in the cell.\n",
    "Repeat the experiment but this time preload the two most likely pages and store the result in the indicated variable.\n",
    "3. [3p] Compare the average (empirical) load time from part 2 with the theoretical one of no pre-loading. Does the load time improve, how did you come to this conclusion? (Explain in the free text field).\n",
    "4. [4p] Calculate the stationary distribution of the Markov chain and calculate the expected load time with respect to it. "
   ]
  },
  {
   "cell_type": "code",
   "execution_count": 38,
   "id": "521439a9",
   "metadata": {
    "deletable": false,
    "lx_assignment_number": "vB",
    "lx_assignment_type": "EXAM",
    "lx_assignment_type2print": "Exam",
    "lx_problem_cell_type": "PROBLEM",
    "lx_problem_number": "2",
    "lx_problem_points": "14"
   },
   "outputs": [],
   "source": [
    "# Part 1: 3 points\n",
    "\n",
    "import pandas as pd\n",
    "import numpy as np\n",
    "\n",
    "data = pd.read_csv(\"O:/1MS041/ExamPackage/data/websites.csv\")\n",
    "\n",
    "unique_pages = sorted(np.unique(data[[\"source\", \"destination\"]]))\n",
    "unique_users = np.unique(data[\"user\"])\n",
    "n_pages = len(unique_pages) # The number of unique pages\n",
    "\n",
    "\n",
    "def makeFreqDict(myDataList):\n",
    "    '''Make a frequency mapping out of a list of data.\n",
    "    Param myDataList, a list of data.\n",
    "    Return a dictionary mapping each unique data value to its frequency count.\n",
    "    '''\n",
    "    freqDict = {}  # start with an empty dictionary\n",
    "    for res in myDataList:\n",
    "        if res in freqDict:  # the data value already exists as a key\n",
    "            freqDict[res] = freqDict[res] + 1  # add 1 to the count using sage integers\n",
    "        else:  # the data value does not exist as a key value\n",
    "            freqDict[res] = 1  # add a new key-value pair for this new data value, frequency 1\n",
    "    return (freqDict)  # return the dictionary created\n",
    "\n",
    "\n",
    "transition_counts = makeFreqDict(zip(data[\"source\"], data[\"destination\"])) # A dictionary that counts the number of each ransition\n",
    "# ex: ('0','7'):2\n",
    "\n",
    "pageToIndex = {page: i for i, page in enumerate(unique_pages)} # The inverse,\n",
    "# ex: '0':0\n",
    "\n",
    "#Fnding the maximum likelihood estimate of the transition matrix\n",
    "\n",
    "transition_matrix = np.zeros((n_pages, n_pages)) # a numpy array of size (n_pages,n_pages)\n",
    "\n",
    "for (source, destination), freq in transition_counts.items():\n",
    "    transition_matrix[pageToIndex[source], pageToIndex[destination]] = freq\n",
    "\n",
    "\n",
    "# Load the data from the file data/websites.csv and estimate the transition matrix of the Markov chain\n",
    "# Store the estimated transition matrix in the variable problem2_transition_matrix below\n",
    "problem2_transition_matrix = transition_matrix / transition_matrix.sum(axis=1, keepdims=True) # A numpy array of shape (problem2_n_states, problem2_n_states)\n",
    "# Store the number of states in the variable problem2_n_states below\n",
    "problem2_n_states = n_pages\n",
    "\n"
   ]
  },
  {
   "cell_type": "code",
   "execution_count": 39,
   "id": "d3adcdd2",
   "metadata": {
    "deletable": false,
    "lx_assignment_number": "vB",
    "lx_assignment_type": "EXAM",
    "lx_assignment_type2print": "Exam",
    "lx_problem_cell_type": "PROBLEM",
    "lx_problem_number": "2",
    "lx_problem_points": "14"
   },
   "outputs": [
    {
     "name": "stdout",
     "output_type": "stream",
     "text": [
      "[0.         0.10434783 0.09565217 0.08695652 0.07826087 0.15652174\n",
      " 0.04347826 0.1826087  0.16521739 0.08695652]\n"
     ]
    }
   ],
   "source": [
    "# Part 2: 4 points\n",
    "\n",
    "start_pos = [1, 0, 0, 0, 0, 0, 0, 0, 0, 0] # We start at the first page (homepage))\n",
    "\n",
    "one_step = np.linalg.matrix_power(problem2_transition_matrix, 1)\n",
    "final_pos = start_pos @ one_step\n",
    "\n",
    "most_likely_page = np.max(final_pos)\n",
    "number_of_users = 10000\n",
    "\n",
    "\n",
    "print(final_pos)\n",
    "\n",
    "# Simulate the website load times for the next page of 10000 users that are currently on page 1 (recall indexing starts at 0) when we only load the most likely page.\n",
    "# Store the simulated page load times in the variable problem2_page_load_times_top below\n",
    "problem2_page_load_times_top = NotImplemented # A numpy array of shape (10000,)\n",
    "\n",
    "# Repeat the simulation of load times for the next page of 10000 users that are currently on page 1 when we load the two most likely pages.\n",
    "# Store the simulated page load times in the variable problem2_page_load_times_two below\n",
    "problem2_page_load_times_two = NotImplemented # A numpy array of shape (10000,)\n"
   ]
  },
  {
   "cell_type": "code",
   "execution_count": 40,
   "id": "0b5eccd1",
   "metadata": {
    "deletable": false,
    "lx_assignment_number": "vB",
    "lx_assignment_type": "EXAM",
    "lx_assignment_type2print": "Exam",
    "lx_problem_cell_type": "PROBLEM",
    "lx_problem_number": "2",
    "lx_problem_points": "14"
   },
   "outputs": [],
   "source": [
    "# Part 3: 3 points\n",
    "\n",
    "# Calculate the true expected load time for loading a page without pre-loading the next page and store it in the variable below\n",
    "problem2_avg = NotImplemented # A float\n",
    "\n",
    "# Is the average load time for loading a page without pre-loading the next page larger than the average load time for loading a page after pre-loading the next most likely page?\n",
    "problem2_comparison = NotImplemented # True / False\n"
   ]
  },
  {
   "cell_type": "markdown",
   "id": "9f007420",
   "metadata": {
    "deletable": false,
    "lx_assignment_number": "vB",
    "lx_assignment_type": "EXAM",
    "lx_assignment_type2print": "Exam",
    "lx_problem_cell_type": "PROBLEM",
    "lx_problem_number": "2",
    "lx_problem_points": "14"
   },
   "source": [
    "\n",
    "## Free text answer\n",
    "\n",
    "Put the explanation for **part 3** of how you made the decision about `problem2_comparison` below this line in this **cell**. In order to enter edit mode you can doubleclick this cell or select it and press enter.\n",
    "\n"
   ]
  },
  {
   "cell_type": "code",
   "execution_count": 41,
   "id": "bbfec65d",
   "metadata": {
    "deletable": false,
    "lx_assignment_number": "vB",
    "lx_assignment_type": "EXAM",
    "lx_assignment_type2print": "Exam",
    "lx_problem_cell_type": "PROBLEM",
    "lx_problem_number": "2",
    "lx_problem_points": "14"
   },
   "outputs": [],
   "source": [
    "# Part 4: 4 points\n",
    "\n",
    "def stat_distr(p):\n",
    "    A = p.T - np.eye(p.shape[0])\n",
    "    b = np.zeros(p.shape[0])\n",
    "\n",
    "    A[-1] = 1\n",
    "    b[-1] = 1\n",
    "\n",
    "    return np.linalg.solve(A, b)\n",
    "\n",
    "# Begin by calculating the stationary distribution of the Markov chain and store it in the variable below\n",
    "# WARNING: Since the transition matrix is not symmetric, numpy might make the output of the eigenvectors complex, you can use np.real() to get the real part of the eigenvectors\n",
    "# Store the stationary distribution in the variable below called problem2_stationary_distribution\n",
    "problem2_stationary_distribution = stat_distr(problem2_transition_matrix) # A numpy array of shape (problem2_n_states,)\n",
    "\n",
    "# Now use the above stationary distribution to calculate the average load time for loading a page after pre-loading the next most likely page according to the stationary distribution\n",
    "# Store the average load time in the variable below\n",
    "problem2_avg_stationary = NotImplemented # A float"
   ]
  },
  {
   "cell_type": "markdown",
   "id": "08beccb8",
   "metadata": {
    "deletable": false,
    "lx_assignment_number": "vB",
    "lx_assignment_type": "EXAM",
    "lx_assignment_type2print": "Exam",
    "lx_problem_cell_type": "PROBLEM",
    "lx_problem_number": "3",
    "lx_problem_points": "12"
   },
   "source": [
    "---\n",
    "## Exam vB, PROBLEM 3\n",
    "Maximum Points = 12"
   ]
  },
  {
   "attachments": {},
   "cell_type": "markdown",
   "id": "21deee81",
   "metadata": {
    "deletable": false,
    "lx_assignment_number": "vB",
    "lx_assignment_type": "EXAM",
    "lx_assignment_type2print": "Exam",
    "lx_problem_cell_type": "PROBLEM",
    "lx_problem_number": "3",
    "lx_problem_points": "12"
   },
   "source": [
    "\n",
    "In this problem we are interested in fraud detection in an e-commerce system. In this problem we are given the outputs of a classifier that predicts the probabilities of fraud, your goal is to explore the threshold choice as in individual assignment 4. The costs associated with the predictions are:\n",
    "\n",
    "* **True Positive (TP)**: Detecting fraud and blocking the transaction costs the company 100 (manual review etc.)\n",
    "* **True Negative (TN)**: Allowing a legitimate transaction has no cost.\n",
    "* **False Positive (FP)**: Incorrectly classifying a legitimate transaction as fraudulent costs 120 (customer dissatisfaction plus operational expenses for reversing the decision).\n",
    "* **False Negative (FN)**: Missing a fraudulent transaction costs the company 600 (e.g., fraud loss plus potential reputational damage or penalties).\n",
    "\n",
    "**The code cells contain more detailed instructions, THE FIRST CODE CELL INITIALIZES YOUR VARIABLES**\n",
    "\n",
    "1. [3p] Complete filling the function `cost` to compute the average cost of a prediction model under a certain prediction threshold. Plot the cost as a function of the threshold (using the validation data provided in the first code cell of this problem), between 0 and 1 with 0.01 increments.\n",
    "2. [2.5p] Find the threshold that minimizes the cost and calculate the cost at that threshold on the validation data. Also calculate the precision and recall at the optimal threshold on the validation data on class 1 and 0.\n",
    "3. [2.5p] Repeat step 2, but this time find the best threshold to minimize the $0-1$ loss. Calculate the difference in cost between the threshold found in part 2 with the one just found in part 3.\n",
    "3. [4p] Provide a confidence interval around the optimal cost (with $95\\%$ confidence) applied to the test data and explain all the assumption you made."
   ]
  },
  {
   "cell_type": "code",
   "execution_count": 42,
   "id": "3f1aadd3",
   "metadata": {
    "deletable": false,
    "lx_assignment_number": "vB",
    "lx_assignment_type": "EXAM",
    "lx_assignment_type2print": "Exam",
    "lx_problem_cell_type": "PROBLEM",
    "lx_problem_number": "3",
    "lx_problem_points": "12"
   },
   "outputs": [],
   "source": [
    "\n",
    "# RUN THIS CELL TO GET THE DATA\n",
    "\n",
    "# We start by loading the data\n",
    "\n",
    "import pandas as pd\n",
    "\n",
    "PROBLEM3_DF = pd.read_csv('data/fraud.csv')\n",
    "Y = PROBLEM3_DF['Class'].values\n",
    "X = PROBLEM3_DF[['V%d' % i for i in range(1,5)]+['Amount']].values\n",
    "\n",
    "# We will split the data into training, testing and validation sets\n",
    "from Utils import train_test_validation\n",
    "PROBLEM3_X_train, PROBLEM3_X_test, PROBLEM3_X_val, PROBLEM3_y_train, PROBLEM3_y_test, PROBLEM3_y_val = train_test_validation(X,Y,shuffle=True,random_state=1)\n",
    "\n",
    "# From this we will train a logistic regression model\n",
    "from sklearn.linear_model import LogisticRegression\n",
    "lr = LogisticRegression()\n",
    "lr.fit(PROBLEM3_X_train,PROBLEM3_y_train)\n",
    "\n",
    "# THE FOLLOWING CODE WILL PRODUCE THE ARRAYS YOU NEED FOR THE PROBLEM\n",
    "\n",
    "PROBLEM3_y_pred_proba_val = lr.predict_proba(PROBLEM3_X_val)[:,1]\n",
    "PROBLEM3_y_true_val = PROBLEM3_y_val\n",
    "\n",
    "PROBLEM3_y_pred_proba_test = lr.predict_proba(PROBLEM3_X_test)[:,1]\n",
    "PROBLEM3_y_true_test = PROBLEM3_y_test\n"
   ]
  },
  {
   "cell_type": "code",
   "execution_count": 43,
   "id": "c588e528",
   "metadata": {
    "deletable": false,
    "lx_assignment_number": "vB",
    "lx_assignment_type": "EXAM",
    "lx_assignment_type2print": "Exam",
    "lx_problem_cell_type": "PROBLEM",
    "lx_problem_number": "3",
    "lx_problem_points": "12"
   },
   "outputs": [],
   "source": [
    "\n",
    "# Part 1: 3 points\n",
    "# Implement the following function that calculates the cost of a binary classifier according to\n",
    "# the specification in the problem statement\n",
    "# See the comments inside the function for details of the parameters\n",
    "def cost(y_true,y_predict_proba,threshold):\n",
    "    # y_true is a numpy array of shape (n_samples,) with binary labels\n",
    "    # y_predict_proba is a numpy array of shape (n_samples,) with predicted probabilities\n",
    "    # threshold is a float between 0 and 1\n",
    "\n",
    "    # When returning the cost, you should return the average cost per sample\n",
    "    # thus it should be a value\n",
    "\n",
    "    # Make new predictions based on our own threshold (the original model defaults 0.5)\n",
    "    predictions = (np.array(y_predict_proba) >= threshold).astype(int)\n",
    "\n",
    "    cost_values = np.zeros_like(Y, dtype=float)\n",
    "    cost_values[(Y == 1) & (predictions == 0)] = 120  # Positive classified as Negative\n",
    "    cost_values[(Y == 0) & (predictions == 1)] = 600  # Negative classified as Positive\n",
    "    cost_values[(Y == 1) & (predictions == 1)] = 100\n",
    "    cost_values[(Y == 0) & (predictions == 0)] = 0\n",
    "\n",
    "    return np.mean(cost_values), cost_values\n",
    "\n",
    "\n",
    "# Provide the code below to plot the cost as a function of the threshold\n",
    "# using the validation data, specifically the arrays PROBLEM3_y_true_val and PROBLEM3_y_pred_proba_val.\n",
    "# The plot should be between 0 and 1 with 0.01 increments\n",
    "# The y-axis should be the cost and the x-axis should be the threshold\n",
    "\n"
   ]
  },
  {
   "cell_type": "code",
   "execution_count": 44,
   "id": "25387d22",
   "metadata": {
    "deletable": false,
    "lx_assignment_number": "vB",
    "lx_assignment_type": "EXAM",
    "lx_assignment_type2print": "Exam",
    "lx_problem_cell_type": "PROBLEM",
    "lx_problem_number": "3",
    "lx_problem_points": "12"
   },
   "outputs": [
    {
     "ename": "NameError",
     "evalue": "name 'y_true' is not defined",
     "output_type": "error",
     "traceback": [
      "\u001B[1;31m---------------------------------------------------------------------------\u001B[0m",
      "\u001B[1;31mNameError\u001B[0m                                 Traceback (most recent call last)",
      "Cell \u001B[1;32mIn[44], line 5\u001B[0m\n\u001B[0;32m      1\u001B[0m \u001B[38;5;66;03m# Part 2: 2.5 points\u001B[39;00m\n\u001B[0;32m      2\u001B[0m \n\u001B[0;32m      3\u001B[0m \u001B[38;5;66;03m# Find the optimal threshold (calculate all and then check)\u001B[39;00m\n\u001B[0;32m      4\u001B[0m thresholds \u001B[38;5;241m=\u001B[39m np\u001B[38;5;241m.\u001B[39mlinspace(\u001B[38;5;241m0\u001B[39m, \u001B[38;5;241m1\u001B[39m, \u001B[38;5;241m101\u001B[39m)\n\u001B[1;32m----> 5\u001B[0m costs \u001B[38;5;241m=\u001B[39m [cost(y_true,y_predict_proba,threshold) \u001B[38;5;28;01mfor\u001B[39;00m t \u001B[38;5;129;01min\u001B[39;00m thresholds]\n\u001B[0;32m      7\u001B[0m optimal_threshold \u001B[38;5;241m=\u001B[39m thresholds[np\u001B[38;5;241m.\u001B[39margmin(costs)]\n\u001B[0;32m      8\u001B[0m cost_at_optimal_threshold \u001B[38;5;241m=\u001B[39m \u001B[38;5;28mmin\u001B[39m(costs)\n",
      "Cell \u001B[1;32mIn[44], line 5\u001B[0m, in \u001B[0;36m<listcomp>\u001B[1;34m(.0)\u001B[0m\n\u001B[0;32m      1\u001B[0m \u001B[38;5;66;03m# Part 2: 2.5 points\u001B[39;00m\n\u001B[0;32m      2\u001B[0m \n\u001B[0;32m      3\u001B[0m \u001B[38;5;66;03m# Find the optimal threshold (calculate all and then check)\u001B[39;00m\n\u001B[0;32m      4\u001B[0m thresholds \u001B[38;5;241m=\u001B[39m np\u001B[38;5;241m.\u001B[39mlinspace(\u001B[38;5;241m0\u001B[39m, \u001B[38;5;241m1\u001B[39m, \u001B[38;5;241m101\u001B[39m)\n\u001B[1;32m----> 5\u001B[0m costs \u001B[38;5;241m=\u001B[39m [cost(\u001B[43my_true\u001B[49m,y_predict_proba,threshold) \u001B[38;5;28;01mfor\u001B[39;00m t \u001B[38;5;129;01min\u001B[39;00m thresholds]\n\u001B[0;32m      7\u001B[0m optimal_threshold \u001B[38;5;241m=\u001B[39m thresholds[np\u001B[38;5;241m.\u001B[39margmin(costs)]\n\u001B[0;32m      8\u001B[0m cost_at_optimal_threshold \u001B[38;5;241m=\u001B[39m \u001B[38;5;28mmin\u001B[39m(costs)\n",
      "\u001B[1;31mNameError\u001B[0m: name 'y_true' is not defined"
     ]
    }
   ],
   "source": [
    "# Part 2: 2.5 points\n",
    "\n",
    "# Find the optimal threshold (calculate all and then check)\n",
    "thresholds = np.linspace(0, 1, 101)\n",
    "costs = [cost(y_true,y_predict_proba,threshold) for t in thresholds]\n",
    "\n",
    "optimal_threshold = thresholds[np.argmin(costs)]\n",
    "cost_at_optimal_threshold = min(costs)\n",
    "\n",
    "optimal_threshold, cost_at_optimal_threshold\n",
    "\n",
    "# Use the cost function you just implemented above to find the threshold that minimizes the cost\n",
    "# using the validation data, specifically the arrays PROBLEM3_y_true_val and PROBLEM3_y_pred_proba_val.\n",
    "# Store the threshold in the variable below\n",
    "problem3_threshold = XXX # A float between 0 and 1\n",
    "\n",
    "# Now calculate the cost of the classifier using the validation data and the threshold you just found\n",
    "# using the validation data, specifically the arrays PROBLEM3_y_true_val and PROBLEM3_y_pred_proba_val.\n",
    "# Store the cost in the variable below\n",
    "problem3_cost_val = XXX # A float\n",
    "\n",
    "# Using the threshold you just found, calculate the predicted labels of the classifier on the validation data\n",
    "# put the predicted labels in the variable below\n",
    "problem3_y_pred_val = XXX # A numpy array of shape (n_samples,) with values 0 or 1\n",
    "\n",
    "# Calculate the precision and recall of the classifier of class 1 using the threshold you just found\n",
    "# using the validation data, specifically the arrays PROBLEM3_y_true_val and PROBLEM3_y_pred_proba_val.\n",
    "\n",
    "problem3_precision_1 = XXX # A float between 0 and 1\n",
    "problem3_recall_1 = XXX # A float between 0 and 1\n",
    "\n",
    "# Calculate the precision and recall of the classifier of class 0 using the threshold you just found\n",
    "# using the validation data, specifically the arrays PROBLEM3_y_true_val and PROBLEM3_y_pred_proba_val.\n",
    "\n",
    "problem3_precision_0 = XXX # A float between 0 and 1\n",
    "problem3_recall_0 = XXX # A float between 0 and 1\n"
   ]
  },
  {
   "cell_type": "code",
   "execution_count": null,
   "id": "0362a128",
   "metadata": {
    "deletable": false,
    "lx_assignment_number": "vB",
    "lx_assignment_type": "EXAM",
    "lx_assignment_type2print": "Exam",
    "lx_problem_cell_type": "PROBLEM",
    "lx_problem_number": "3",
    "lx_problem_points": "12"
   },
   "outputs": [],
   "source": [
    "# Part 3: 2.5 points\n",
    "\n",
    "# Find the threshold that minimizes the $0-1$ loss using the validation data\n",
    "# specifically the arrays PROBLEM3_y_true_val and PROBLEM3_y_pred_proba_val.\n",
    "# Store the threshold in the variable below\n",
    "\n",
    "problem3_threshold_01 = XXX # A float between 0 and 1\n",
    "\n",
    "# Now calculate the difference in cost (using the cost function you implemented in step 1) between the optimal one chosen in part 2 and the one chosen in part 3 by taking the cost with the threshold found in part 3 and subtracting the cost with the threshold found in part 2 to get a positive value\n",
    "problem3_cost_difference = XXX # A float\n"
   ]
  },
  {
   "cell_type": "code",
   "execution_count": null,
   "id": "eb3d73e4",
   "metadata": {
    "deletable": false,
    "lx_assignment_number": "vB",
    "lx_assignment_type": "EXAM",
    "lx_assignment_type2print": "Exam",
    "lx_problem_cell_type": "PROBLEM",
    "lx_problem_number": "3",
    "lx_problem_points": "12"
   },
   "outputs": [],
   "source": [
    "# Part 4: 4 points\n",
    "\n",
    "# Using the threshold problem3_threshold use Hoeffdings inequality to provide a confidence interval \n",
    "# for the cost of the classifier with 95 % confidence using the test data.\n",
    "# Specifically the arrays PROBLEM3_y_true_test and PROBLEM3_y_pred_proba_test.\n",
    "# Store the lower and upper bounds of the confidence interval in the variables below\n",
    "\n",
    "problem3_lower_bound = XXX # A float\n",
    "problem3_upper_bound = XXX # A float"
   ]
  },
  {
   "cell_type": "markdown",
   "id": "67721024",
   "metadata": {
    "deletable": false,
    "lx_assignment_number": "vB",
    "lx_assignment_type": "EXAM",
    "lx_assignment_type2print": "Exam",
    "lx_problem_cell_type": "PROBLEM",
    "lx_problem_number": "3",
    "lx_problem_points": "12"
   },
   "source": [
    "\n",
    "## Free text answer\n",
    "\n",
    "Put your explanation for part 4 below this line in this **cell**. Doubleclick to enter edit mode as before.\n"
   ]
  }
 ],
 "metadata": {
  "kernelspec": {
   "display_name": "Python 3",
   "language": "python",
   "name": "python3"
  },
  "language_info": {
   "codemirror_mode": {
    "name": "ipython",
    "version": 3
   },
   "file_extension": ".py",
   "mimetype": "text/x-python",
   "name": "python",
   "nbconvert_exporter": "python",
   "pygments_lexer": "ipython3",
   "version": "3.10.9"
  },
  "lx_assignment_number": "vB",
  "lx_course_instance": "2024",
  "lx_course_name": "Introduction to Data Science",
  "lx_course_number": "1MS041"
 },
 "nbformat": 4,
 "nbformat_minor": 5
}
